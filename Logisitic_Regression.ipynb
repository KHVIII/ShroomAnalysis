{
  "nbformat": 4,
  "nbformat_minor": 0,
  "metadata": {
    "kernelspec": {
      "display_name": "Python 3",
      "language": "python",
      "name": "python3"
    },
    "language_info": {
      "codemirror_mode": {
        "name": "ipython",
        "version": 3
      },
      "file_extension": ".py",
      "mimetype": "text/x-python",
      "name": "python",
      "nbconvert_exporter": "python",
      "pygments_lexer": "ipython3",
      "version": "3.8.2-final"
    },
    "colab": {
      "name": "Logisitic Regression.ipynb",
      "provenance": [],
      "collapsed_sections": []
    }
  },
  "cells": [
    {
      "cell_type": "code",
      "metadata": {
        "collapsed": true,
        "id": "BP8ER5IwmYNr"
      },
      "source": [
        "# Import Important Libraries\n",
        "import sklearn\n",
        "from sklearn.linear_model import LogisticRegression # importing Sklearn's logistic regression's module\n",
        "from sklearn import preprocessing # preprossing is what we do with the data before we run the learning algorithm\n",
        "from sklearn.model_selection import train_test_split \n",
        "from sklearn.model_selection import KFold\n",
        "from sklearn.metrics import precision_recall_fscore_support\n",
        "\n",
        "import pandas as pd\n",
        "import numpy as np\n",
        "# import math\n",
        "import math\n",
        "\n",
        "import matplotlib.pyplot as plt\n",
        "%matplotlib inline"
      ],
      "execution_count": 48,
      "outputs": []
    },
    {
      "cell_type": "markdown",
      "metadata": {
        "id": "DLP52cVdmYNt"
      },
      "source": [
        "# Loading the data set.\n",
        "\n",
        "Before we start with the actual training process or preprocessing, we will need to get the relevant data points which we filtered out constant and quasi-constant features. Then these data points are translated into numbers using the consistent method. For our target, 0 shall represent edible where 1 shall represent poisonous. "
      ]
    },
    {
      "cell_type": "code",
      "metadata": {
        "collapsed": true,
        "id": "q722FUPtmYNt"
      },
      "source": [
        "df = pd.read_csv(\"https://raw.githubusercontent.com/cynthiacheng1/ShroomAnalysis/main/mushrooms.csv\")"
      ],
      "execution_count": 49,
      "outputs": []
    },
    {
      "cell_type": "code",
      "metadata": {
        "colab": {
          "base_uri": "https://localhost:8080/"
        },
        "id": "JVyql1YSmYNv",
        "outputId": "de70b856-01d9-4bd8-941f-4a7bc1c7ec54"
      },
      "source": [
        "#Load the data / Preprocessing\n",
        "\n",
        "#Features\n",
        "data = df.drop(\"class\",axis=1)\n",
        "filters = [\"gill-attachment\",\"veil-type\",\"veil-color\",\"ring-number\"] #features to be excluded, found through constant and quasi-constant filtering\n",
        "data = data.drop(columns=filters)\n",
        "print(data.head)\n",
        "\n",
        "def to_digit(i):\n",
        "    if i in chars:\n",
        "        return chars[i]\n",
        "    else:\n",
        "        chars[i] = len(chars)+1\n",
        "        return chars[i]\n",
        "\n",
        "features = list(data.columns)\n",
        "for idx in features:\n",
        "    chars = {}\n",
        "    data[idx] = data[idx].map(to_digit)\n",
        "\n",
        "print(data.head)\n",
        "\n",
        "#Target\n",
        "target = df[\"class\"]\n",
        "target = target.replace(\"e\",0)\n",
        "target = target.replace(\"p\",1)\n",
        "print (target.head)\n",
        "\n",
        "\n",
        "#print('Q01 - cancer.data.shape: ', cancer.data.shape)\n"
      ],
      "execution_count": 50,
      "outputs": [
        {
          "output_type": "stream",
          "name": "stdout",
          "text": [
            "<bound method NDFrame.head of      cap-shape cap-surface cap-color  ... spore-print-color population habitat\n",
            "0            x           s         n  ...                 k          s       u\n",
            "1            x           s         y  ...                 n          n       g\n",
            "2            b           s         w  ...                 n          n       m\n",
            "3            x           y         w  ...                 k          s       u\n",
            "4            x           s         g  ...                 n          a       g\n",
            "...        ...         ...       ...  ...               ...        ...     ...\n",
            "8119         k           s         n  ...                 b          c       l\n",
            "8120         x           s         n  ...                 b          v       l\n",
            "8121         f           s         n  ...                 b          c       l\n",
            "8122         k           y         n  ...                 w          v       l\n",
            "8123         x           s         n  ...                 o          c       l\n",
            "\n",
            "[8124 rows x 18 columns]>\n",
            "<bound method NDFrame.head of       cap-shape  cap-surface  cap-color  ...  spore-print-color  population  habitat\n",
            "0             1            1          1  ...                  1           1        1\n",
            "1             1            1          2  ...                  2           2        2\n",
            "2             2            1          3  ...                  2           2        3\n",
            "3             1            2          3  ...                  1           1        1\n",
            "4             1            1          4  ...                  2           3        2\n",
            "...         ...          ...        ...  ...                ...         ...      ...\n",
            "8119          5            1          1  ...                  9           6        7\n",
            "8120          1            1          1  ...                  9           4        7\n",
            "8121          4            1          1  ...                  9           6        7\n",
            "8122          5            2          1  ...                  5           4        7\n",
            "8123          1            1          1  ...                  7           6        7\n",
            "\n",
            "[8124 rows x 18 columns]>\n",
            "<bound method NDFrame.head of 0       1\n",
            "1       0\n",
            "2       0\n",
            "3       1\n",
            "4       0\n",
            "       ..\n",
            "8119    0\n",
            "8120    0\n",
            "8121    0\n",
            "8122    1\n",
            "8123    0\n",
            "Name: class, Length: 8124, dtype: int64>\n"
          ]
        }
      ]
    },
    {
      "cell_type": "markdown",
      "metadata": {
        "id": "Wh4CdotJmYNw"
      },
      "source": [
        "# Data Pre-Processing\n",
        "Scale before splitting the data into train and test since we will be using gradient ascent. \n",
        "* Use `preprocessing` to scale the data. \n",
        "* Assign the target of cancer to variable `y (<np.ndarray>)`.\n",
        "* Use `train_test_split` to split the data (`75% train` and `25% test`) to `X_train`, `X_test`, `y_train`, `y_test` with `random_state` of 42\n",
        "* Reshape `y_train` into 2D array `y_2d_train` and `y_test` into 2D array `y_2d_test`"
      ]
    },
    {
      "cell_type": "code",
      "metadata": {
        "collapsed": true,
        "id": "khIqQZCsmYNx",
        "colab": {
          "base_uri": "https://localhost:8080/"
        },
        "outputId": "df7dd6cd-b0b0-42ef-d448-d393fb1077c6"
      },
      "source": [
        "\n",
        "X= data.to_numpy()\n",
        "y = target.to_numpy()\n",
        "\n",
        "#75% train, 25%test\n",
        "X_train, X_test, y_train, y_test = train_test_split(X, y)\n",
        "\n",
        "#scaling x \n",
        "scaler = preprocessing.StandardScaler()\n",
        "X_train= scaler.fit_transform(X_train)\n",
        "X_test = scaler.transform(X_test)\n",
        "\n",
        "\n",
        "y_2d_train = y_train.reshape(y_train.shape[0],1)\n",
        "y_2d_test = y_test.reshape(y_test.shape[0],1)\n",
        "\n",
        "print('X_train.shape: ', X_train.shape)\n",
        "print('y_2d_train.shape: ', y_2d_train.shape)\n",
        "\n",
        "print('X_test.shape: ', X_test.shape)\n",
        "\n"
      ],
      "execution_count": 51,
      "outputs": [
        {
          "output_type": "stream",
          "name": "stdout",
          "text": [
            "X_train.shape:  (6093, 18)\n",
            "y_2d_train.shape:  (6093, 1)\n",
            "X_test.shape:  (2031, 18)\n"
          ]
        }
      ]
    },
    {
      "cell_type": "markdown",
      "metadata": {
        "id": "MYVEgla9mYOB"
      },
      "source": [
        "# Model Fitting With L1 Penalty, Using Kfolds with k = 10 to find ideal C"
      ]
    },
    {
      "cell_type": "code",
      "metadata": {
        "colab": {
          "base_uri": "https://localhost:8080/",
          "height": 491
        },
        "id": "iGKZx_pjjRlH",
        "outputId": "4359d19c-d540-4cc4-8f85-4355b4067621"
      },
      "source": [
        "#KFold with K = 10\n",
        "npen = 20\n",
        "C_test = np.logspace(-2,2,npen)\n",
        "\n",
        "# Create the cross-validation object and error rate matrix\n",
        "nfold = 10\n",
        "kf = KFold(n_splits=nfold,shuffle=True)\n",
        "err_rate = np.zeros((npen,nfold))\n",
        "num_nonzerocoef = np.zeros((npen,nfold))\n",
        "\n",
        "#Set Up Logreg\n",
        "logreg =  LogisticRegression(penalty=\"l1\",solver=\"liblinear\", warm_start=True)\n",
        "\n",
        "# Loop over the folds in the cross-validation\n",
        "\n",
        "X_train_unscaled = scaler.inverse_transform(X_train)\n",
        "for ifold, Ind in enumerate(kf.split(X_train_unscaled)):        \n",
        "            \n",
        "    # Get training and test data\n",
        "    Itr, Its = Ind\n",
        "    Xtr = X_train[Itr,:]\n",
        "    ytr = y_train[Itr]\n",
        "    Xts = X_train[Its,:]\n",
        "    yts = y_train[Its]\n",
        "    \n",
        "    scaler_KFold = preprocessing.StandardScaler()\n",
        "    Xtr= scaler_KFold.fit_transform(Xtr)\n",
        "    Xts = scaler_KFold.transform(Xts)\n",
        "    \n",
        "    # Loop over penalty levels\n",
        "    for ipen, c in enumerate(C_test):\n",
        "        \n",
        "        # Set the penalty level        \n",
        "        logreg.C= c\n",
        "    \n",
        "        # Fit a model on the training data\n",
        "        logreg.fit(Xtr, ytr)\n",
        "    \n",
        "        # Predict the labels on the test set.\n",
        "        yhat = logreg.predict(Xts)\n",
        "        \n",
        "        # Measure the accuracy\n",
        "        err_rate[ipen,ifold] = np.mean(yhat != yts)\n",
        "        #num_nonzerocoef[ipen,ifold]=np.sum(abs(logreg.coef_)>0.001)\n",
        "\n",
        "    print(\"Fold %d\" % ifold)\n",
        "\n",
        "err_mean = np.mean(err_rate, axis=1)\n",
        "#num_nonzerocoef_mean = np.mean(num_nonzerocoef, axis=1)\n",
        "err_se = np.std(err_rate,axis=1)/np.sqrt(nfold-1)\n",
        "plt.errorbar(np.log10(C_test), err_mean, marker='o',yerr=err_se)\n",
        "plt.ylim([0.02,0.05])\n",
        "plt.grid()\n",
        "plt.xlabel('log10(C)')\n",
        "plt.ylabel('Error rate')\n",
        "\n",
        "imin = np.argmin(err_mean)\n",
        "\n",
        "print(\"The minimum test error rate = %12.4e, SE=%12.4e\" % (err_mean[imin], err_se[imin]))\n",
        "print(\"The C value corresponding to minimum error = %12.4e\" % (C_test[imin]))"
      ],
      "execution_count": 52,
      "outputs": [
        {
          "output_type": "stream",
          "name": "stdout",
          "text": [
            "Fold 0\n",
            "Fold 1\n",
            "Fold 2\n",
            "Fold 3\n",
            "Fold 4\n",
            "Fold 5\n",
            "Fold 6\n",
            "Fold 7\n",
            "Fold 8\n",
            "Fold 9\n",
            "The minimum test error rate =   0.0000e+00, SE=  0.0000e+00\n",
            "The C value corresponding to minimum error =   3.3598e+00\n"
          ]
        },
        {
          "output_type": "display_data",
          "data": {
            "image/png": "[encoded data removed]",
            "text/plain": [
              "<Figure size 432x288 with 1 Axes>"
            ]
          },
          "metadata": {
            "needs_background": "light"
          }
        }
      ]
    },
    {
      "cell_type": "code",
      "metadata": {
        "id": "uc9N2GRlmYOB",
        "colab": {
          "base_uri": "https://localhost:8080/"
        },
        "outputId": "9083a3f7-f76c-42cc-8210-c4752ba63a2c"
      },
      "source": [
        "\n",
        "logreg =  LogisticRegression(penalty=\"l1\",solver=\"liblinear\",C=5.4556e+00)\n",
        "# Fit the model\n",
        "# Don't use matrix X_train_1. Instead, use x_train.\n",
        "logreg.fit(X_train,y_train)\n",
        "\n",
        "# Find the predicted values on training set using logreg.predict\n",
        "y_hat_logreg = logreg.predict(X_train)\n",
        "# Find the accuracy achieved on training set using logreg.score and y_train as type of int\n",
        "acc_logreg = logreg.score(X_train,y_train) \n",
        "\n",
        "# Find Precision, recall and fscore using precision_recall_fscore_support nethod of sklearn\n",
        "temp = precision_recall_fscore_support(y_train,y_hat_logreg)\n",
        "prec = temp[0]\n",
        "recal = temp[1]\n",
        "fscore = temp[2]\n",
        "\n",
        "print('Training Precision: ', prec)\n",
        "print('Training Recall: ', recal)\n",
        "print('Training F_score: ', fscore)\n",
        "print('Training Accuracy: ', acc_logreg)\n",
        "\n",
        "y_hat_logreg_test = logreg.predict(X_test)\n",
        "acc_logreg_test = logreg.score(X_test,y_test)\n",
        "temp2 = precision_recall_fscore_support(y_test,y_hat_logreg_test)\n",
        "prec2 = temp[0]\n",
        "recal2 = temp[1]\n",
        "fscore2 = temp[2]\n",
        "print('Testing Precision: ', prec2)\n",
        "print('Testing Recall: ', recal2)\n",
        "print('Testing F_score: ', fscore2)\n",
        "print('Testing Accuracy: ', acc_logreg_test)\n",
        "\n",
        "print('Model Weights:', np.hstack((logreg.intercept_[:,None], logreg.coef_)))\n"
      ],
      "execution_count": 68,
      "outputs": [
        {
          "output_type": "stream",
          "name": "stdout",
          "text": [
            "Training Precision:  [1. 1.]\n",
            "Training Recall:  [1. 1.]\n",
            "Training F_score:  [1. 1.]\n",
            "Training Accuracy:  1.0\n",
            "Testing Precision:  [1. 1.]\n",
            "Testing Recall:  [1. 1.]\n",
            "Testing F_score:  [1. 1.]\n",
            "Testing Accuracy:  1.0\n",
            "Model Weights: [[ -2.28441098   0.          -0.39348745  -0.15899318 -47.59720834\n",
            "   46.09387518 -17.3523325  -42.75064864   0.5881197   -7.91966687\n",
            "   -0.99258409  21.83500114  14.08561539   1.30197728   0.06887537\n",
            "   -1.82031383   1.94455322  -2.83187772  -2.23867272]]\n"
          ]
        }
      ]
    },
    {
      "cell_type": "markdown",
      "metadata": {
        "id": "sJtm3zpAWqsU"
      },
      "source": [
        "# Model Fitting With L2 Penalty, Using Kfolds with k=10 to find ideal C"
      ]
    },
    {
      "cell_type": "code",
      "metadata": {
        "colab": {
          "base_uri": "https://localhost:8080/",
          "height": 769
        },
        "id": "3SUB7yKfW6yF",
        "outputId": "2d3d2387-494c-4bef-f0a1-09f6edeb0c96"
      },
      "source": [
        "\n",
        "# Create the cross-validation object and error rate matrix\n",
        "nfold = 10\n",
        "kf = KFold(n_splits=nfold,shuffle=True)\n",
        "err_rate = np.zeros((npen,nfold))\n",
        "num_nonzerocoef = np.zeros((npen,nfold))\n",
        "\n",
        "#Set Up Logreg\n",
        "logreg =  LogisticRegression(penalty=\"l2\", warm_start=True)\n",
        "\n",
        "# Loop over the folds in the cross-validation\n",
        "\n",
        "X_train_unscaled = scaler.inverse_transform(X_train)\n",
        "for ifold, Ind in enumerate(kf.split(X_train_unscaled)):        \n",
        "            \n",
        "    # Get training and test data\n",
        "    Itr, Its = Ind\n",
        "    Xtr = X_train[Itr,:]\n",
        "    ytr = y_train[Itr]\n",
        "    Xts = X_train[Its,:]\n",
        "    yts = y_train[Its]\n",
        "    \n",
        "    scaler_KFold = preprocessing.StandardScaler()\n",
        "    Xtr= scaler_KFold.fit_transform(Xtr)\n",
        "    Xts = scaler_KFold.transform(Xts)\n",
        "    \n",
        "    # Loop over penalty levels\n",
        "    for ipen, c in enumerate(C_test):\n",
        "        \n",
        "        # Set the penalty level        \n",
        "        logreg.C= c\n",
        "    \n",
        "        # Fit a model on the training data\n",
        "        logreg.fit(Xtr, ytr)\n",
        "    \n",
        "        # Predict the labels on the test set.\n",
        "        yhat = logreg.predict(Xts)\n",
        "        \n",
        "        # Measure the accuracy\n",
        "        err_rate[ipen,ifold] = np.mean(yhat != yts)\n",
        "        #num_nonzerocoef[ipen,ifold]=np.sum(abs(logreg.coef_)>0.001)\n",
        "\n",
        "    print(\"Fold %d\" % ifold)\n",
        "\n",
        "err_mean = np.mean(err_rate, axis=1)\n",
        "#num_nonzerocoef_mean = np.mean(num_nonzerocoef, axis=1)\n",
        "err_se = np.std(err_rate,axis=1)/np.sqrt(nfold-1)\n",
        "plt.errorbar(np.log10(C_test), err_mean, marker='o',yerr=err_se)\n",
        "plt.ylim([0.02,0.05])\n",
        "plt.grid()\n",
        "plt.xlabel('log10(C)')\n",
        "plt.ylabel('Error rate')\n",
        "\n",
        "imin = np.argmin(err_mean)\n",
        "\n",
        "print(\"The minimum test error rate = %12.4e, SE=%12.4e\" % (err_mean[imin], err_se[imin]))\n",
        "print(\"The C value corresponding to minimum error = %12.4e\" % (C_test[imin]))"
      ],
      "execution_count": 54,
      "outputs": [
        {
          "output_type": "stream",
          "name": "stdout",
          "text": [
            "Fold 0\n",
            "Fold 1\n",
            "Fold 2\n",
            "Fold 3\n",
            "Fold 4\n",
            "Fold 5\n",
            "Fold 6\n"
          ]
        },
        {
          "output_type": "stream",
          "name": "stderr",
          "text": [
            "/usr/local/lib/python3.7/dist-packages/sklearn/linear_model/_logistic.py:818: ConvergenceWarning: lbfgs failed to converge (status=1):\n",
            "STOP: TOTAL NO. of ITERATIONS REACHED LIMIT.\n",
            "\n",
            "Increase the number of iterations (max_iter) or scale the data as shown in:\n",
            "    https://scikit-learn.org/stable/modules/preprocessing.html\n",
            "Please also refer to the documentation for alternative solver options:\n",
            "    https://scikit-learn.org/stable/modules/linear_model.html#logistic-regression\n",
            "  extra_warning_msg=_LOGISTIC_SOLVER_CONVERGENCE_MSG,\n"
          ]
        },
        {
          "output_type": "stream",
          "name": "stdout",
          "text": [
            "Fold 7\n"
          ]
        },
        {
          "output_type": "stream",
          "name": "stderr",
          "text": [
            "/usr/local/lib/python3.7/dist-packages/sklearn/linear_model/_logistic.py:818: ConvergenceWarning: lbfgs failed to converge (status=1):\n",
            "STOP: TOTAL NO. of ITERATIONS REACHED LIMIT.\n",
            "\n",
            "Increase the number of iterations (max_iter) or scale the data as shown in:\n",
            "    https://scikit-learn.org/stable/modules/preprocessing.html\n",
            "Please also refer to the documentation for alternative solver options:\n",
            "    https://scikit-learn.org/stable/modules/linear_model.html#logistic-regression\n",
            "  extra_warning_msg=_LOGISTIC_SOLVER_CONVERGENCE_MSG,\n"
          ]
        },
        {
          "output_type": "stream",
          "name": "stdout",
          "text": [
            "Fold 8\n",
            "Fold 9\n",
            "The minimum test error rate =   0.0000e+00, SE=  0.0000e+00\n",
            "The C value corresponding to minimum error =   6.1585e+01\n"
          ]
        },
        {
          "output_type": "display_data",
          "data": {
            "image/png": "[encoded data removed]",
            "text/plain": [
              "<Figure size 432x288 with 1 Axes>"
            ]
          },
          "metadata": {
            "needs_background": "light"
          }
        }
      ]
    },
    {
      "cell_type": "code",
      "metadata": {
        "colab": {
          "base_uri": "https://localhost:8080/"
        },
        "id": "hy0ZWya1XNQk",
        "outputId": "26b48394-4bc9-4384-b43a-14d7897ddf68"
      },
      "source": [
        "logreg =  LogisticRegression(penalty=\"l2\",solver=\"liblinear\",C=6.1585e+01)\n",
        "# Fit the model\n",
        "# Don't use matrix X_train_1. Instead, use x_train.\n",
        "logreg.fit(X_train,y_train)\n",
        "\n",
        "# Find the predicted values on training set using logreg.predict\n",
        "y_hat_logreg = logreg.predict(X_train)\n",
        "# Find the accuracy achieved on training set using logreg.score and y_train as type of int\n",
        "acc_logreg = logreg.score(X_train,y_train) \n",
        "\n",
        "# Find Precision, recall and fscore using precision_recall_fscore_support nethod of sklearn\n",
        "temp = precision_recall_fscore_support(y_train,y_hat_logreg)\n",
        "prec = temp[0]\n",
        "recal = temp[1]\n",
        "fscore = temp[2]\n",
        "\n",
        "print('Training Precision: ', prec)\n",
        "print('Training Recall: ', recal)\n",
        "print('Training F_score: ', fscore)\n",
        "print('Training Accuracy: ', acc_logreg)\n",
        "\n",
        "y_hat_logreg_test = logreg.predict(X_test)\n",
        "acc_logreg_test = logreg.score(X_test,y_test)\n",
        "temp2 = precision_recall_fscore_support(y_test,y_hat_logreg_test)\n",
        "prec2 = temp[0]\n",
        "recal2 = temp[1]\n",
        "fscore2 = temp[2]\n",
        "print('Testing Precision: ', prec2)\n",
        "print('Testing Recall: ', recal2)\n",
        "print('Testing F_score: ', fscore2)\n",
        "print('Testing Accuracy: ', acc_logreg_test)\n",
        "\n",
        "print('Model Weights:', np.hstack((logreg.intercept_[:,None], logreg.coef_)))"
      ],
      "execution_count": 71,
      "outputs": [
        {
          "output_type": "stream",
          "name": "stdout",
          "text": [
            "Training Precision:  [1. 1.]\n",
            "Training Recall:  [1. 1.]\n",
            "Training F_score:  [1. 1.]\n",
            "Training Accuracy:  1.0\n",
            "Testing Precision:  [1. 1.]\n",
            "Testing Recall:  [1. 1.]\n",
            "Testing F_score:  [1. 1.]\n",
            "Testing Accuracy:  1.0\n",
            "Model Weights: [[-2.47719612e+00 -2.09007740e-02 -4.95351538e-01 -1.55816258e-01\n",
            "  -3.63880540e+01  3.53188865e+01 -1.29487189e+01 -3.36627090e+01\n",
            "   7.35156143e-01 -6.70141740e+00 -1.88607784e+00  1.57527186e+01\n",
            "   1.24361921e+01  1.42348090e+00  1.46136376e-01 -1.61472964e+00\n",
            "   2.66717386e+00 -2.77181082e+00 -1.23746810e+00]]\n"
          ]
        }
      ]
    },
    {
      "cell_type": "markdown",
      "metadata": {
        "id": "D8OS7c9xT7ZY"
      },
      "source": [
        "# L1 and L2 with varying C for demonstration purposes."
      ]
    },
    {
      "cell_type": "code",
      "metadata": {
        "colab": {
          "base_uri": "https://localhost:8080/",
          "height": 297
        },
        "id": "tqn83b2zULnB",
        "outputId": "4e54d9aa-706a-4f6c-b785-ba26e70cc9d2"
      },
      "source": [
        "\n",
        "\n",
        "def do_logreg(penalty, C):\n",
        "    logreg = LogisticRegression(penalty=penalty,C=C,solver=\"liblinear\")\n",
        "    logreg.fit(X_train,y_train)\n",
        "\n",
        "    logreg_tr_acc = logreg.score(X_train,y_train)\n",
        "    logreg_te_acc = logreg.score(X_test,y_test)\n",
        "    return (logreg_tr_acc,logreg_te_acc)\n",
        "\n",
        "C_list = np.logspace(-2,2,20)\n",
        "\n",
        "l1_train_result = []\n",
        "l1_test_result = []\n",
        "l2_train_result = []\n",
        "l2_test_result = []\n",
        "\n",
        "for C in C_list:\n",
        "    l1_results = do_logreg(\"l1\",C)\n",
        "    l2_results = do_logreg(\"l2\",C)\n",
        "    l1_train_result.append(l1_results[0])\n",
        "    l1_test_result.append(l1_results[1])\n",
        "    l2_train_result.append(l2_results[0])\n",
        "    l2_test_result.append(l2_results[1])\n",
        "\n",
        "plt.subplot(1,2,1)\n",
        "plt.plot(C_list,l1_train_result)\n",
        "plt.plot(C_list,l1_test_result)\n",
        "plt.xlabel(\"C\")\n",
        "plt.ylabel(\"Mean Accuracy\")\n",
        "plt.legend([\"Train Set\",\"Test Set\"])\n",
        "plt.title(\"L1\")\n",
        "plt.grid()\n",
        "\n",
        "plt.subplot(1,2,2)\n",
        "plt.plot(C_list,l2_train_result)\n",
        "plt.plot(C_list,l2_test_result)\n",
        "plt.xlabel(\"C\")\n",
        "plt.ylabel(\"Mean Accuracy\")\n",
        "plt.legend([\"Train Set\",\"Test Set\"])\n",
        "plt.title(\"L2\")\n",
        "plt.grid()\n",
        "\n",
        "plt.tight_layout()\n",
        "plt.show()\n",
        "\n",
        "\n",
        "\n"
      ],
      "execution_count": 61,
      "outputs": [
        {
          "output_type": "display_data",
          "data": {
            "image/png": "[encoded data removed]",
            "text/plain": [
              "<Figure size 432x288 with 2 Axes>"
            ]
          },
          "metadata": {
            "needs_background": "light"
          }
        }
      ]
    },
    {
      "cell_type": "code",
      "metadata": {
        "colab": {
          "base_uri": "https://localhost:8080/"
        },
        "id": "kycB3Xqdt85j",
        "outputId": "b7a9076a-f26c-4807-b6d1-c179f169bad8"
      },
      "source": [
        "print(C_list)\n",
        "print(l2_train_result)\n",
        "print(l2_test_result)"
      ],
      "execution_count": 64,
      "outputs": [
        {
          "output_type": "stream",
          "name": "stdout",
          "text": [
            "[1.00000000e-02 1.62377674e-02 2.63665090e-02 4.28133240e-02\n",
            " 6.95192796e-02 1.12883789e-01 1.83298071e-01 2.97635144e-01\n",
            " 4.83293024e-01 7.84759970e-01 1.27427499e+00 2.06913808e+00\n",
            " 3.35981829e+00 5.45559478e+00 8.85866790e+00 1.43844989e+01\n",
            " 2.33572147e+01 3.79269019e+01 6.15848211e+01 1.00000000e+02]\n",
            "[0.9563433448219268, 0.9609387822090923, 0.9642212374856393, 0.9683243065813228, 0.971770884621697, 0.9750533398982438, 0.9786640407024454, 0.9811258821598555, 0.9829312325619564, 0.9850648284917118, 0.987526669949122, 0.9898243886427047, 0.9921221073362876, 0.994748071557525, 0.9975381585425899, 0.9993435089446906, 0.9996717544723454, 1.0, 1.0, 1.0]\n",
            "[0.9571639586410635, 0.96602658788774, 0.9694731659281143, 0.9734121122599705, 0.9739044805514525, 0.9807976366322009, 0.983751846381093, 0.9847365829640571, 0.9871984244214672, 0.9881831610044313, 0.9896602658788775, 0.9931068439192516, 0.9955686853766618, 0.9955686853766618, 0.9975381585425899, 0.999015263417036, 0.999015263417036, 0.999015263417036, 1.0, 1.0]\n"
          ]
        }
      ]
    },
    {
      "cell_type": "markdown",
      "metadata": {
        "id": "iH721g7rllDt"
      },
      "source": [
        "# Even though we know linear works, let's try polynomial transformation just to see how it will fare, we will use l2 regularisation with k-folds to determine optimal perimeter."
      ]
    },
    {
      "cell_type": "code",
      "metadata": {
        "colab": {
          "base_uri": "https://localhost:8080/"
        },
        "id": "m7JDO8NYlwXm",
        "outputId": "db788c50-34ba-419f-bc38-4ebe9cfa0eeb"
      },
      "source": [
        "#Transformation first \n",
        "poly = preprocessing.PolynomialFeatures(2)\n",
        "Z = poly.fit_transform(X) \n",
        "\n",
        "#75% train, 25%test\n",
        "Z_train, Z_test, y2_train, y2_test = train_test_split(Z, y)\n",
        "\n",
        "#scaling Z AFTER TRANSFORMATION\n",
        "scaler_z = preprocessing.StandardScaler()\n",
        "Z_train= scaler_z.fit_transform(Z_train)\n",
        "Z_test = scaler_z.transform(Z_test)\n",
        "\n",
        "print(Z_train.shape) #we have 190 features, but since we got 8124 data points, we will not use dual formulation"
      ],
      "execution_count": 57,
      "outputs": [
        {
          "output_type": "stream",
          "name": "stdout",
          "text": [
            "(6093, 190)\n"
          ]
        }
      ]
    },
    {
      "cell_type": "code",
      "metadata": {
        "colab": {
          "base_uri": "https://localhost:8080/",
          "height": 491
        },
        "id": "PRZybCzFm_lC",
        "outputId": "ac85fd98-a429-4c2a-f7bc-05dc6f992e45"
      },
      "source": [
        "#Get ideal C first\n",
        "npen = 20\n",
        "C_test = np.logspace(-2,2,npen)\n",
        "\n",
        "# Create the cross-validation object and error rate matrix\n",
        "nfold = 10\n",
        "kf = KFold(n_splits=nfold,shuffle=True)\n",
        "err_rate = np.zeros((npen,nfold))\n",
        "num_nonzerocoef = np.zeros((npen,nfold))\n",
        "\n",
        "#Set Up Logreg\n",
        "logreg =  LogisticRegression(penalty=\"l2\", warm_start=True)\n",
        "\n",
        "# Loop over the folds in the cross-validation\n",
        "\n",
        "Z_train_unscaled = scaler_z.inverse_transform(Z_train)\n",
        "for ifold, Ind in enumerate(kf.split(Z_train_unscaled)):        \n",
        "            \n",
        "    # Get training and test data\n",
        "    Itr, Its = Ind\n",
        "    Ztr = Z_train[Itr,:]\n",
        "    ytr = y2_train[Itr]\n",
        "    Zts = Z_train[Its,:]\n",
        "    yts = y2_train[Its]\n",
        "    \n",
        "    scaler_KFold = preprocessing.StandardScaler()\n",
        "    Ztr = scaler_KFold.fit_transform(Ztr)\n",
        "    Zts = scaler_KFold.transform(Zts)\n",
        "    \n",
        "    # Loop over penalty levels\n",
        "    for ipen, c in enumerate(C_test):\n",
        "        \n",
        "        # Set the penalty level        \n",
        "        logreg.C= c\n",
        "    \n",
        "        # Fit a model on the training data\n",
        "        logreg.fit(Ztr, ytr)\n",
        "    \n",
        "        # Predict the labels on the test set.\n",
        "        yhat = logreg.predict(Zts)\n",
        "        \n",
        "        # Measure the accuracy\n",
        "        err_rate[ipen,ifold] = np.mean(yhat != yts)\n",
        "        #num_nonzerocoef[ipen,ifold]=np.sum(abs(logreg.coef_)>0.001)\n",
        "\n",
        "    print(\"Fold %d\" % ifold)\n",
        "\n",
        "err_mean = np.mean(err_rate, axis=1)\n",
        "#num_nonzerocoef_mean = np.mean(num_nonzerocoef, axis=1)\n",
        "err_se = np.std(err_rate,axis=1)/np.sqrt(nfold-1)\n",
        "plt.errorbar(np.log10(C_test), err_mean, marker='o',yerr=err_se)\n",
        "plt.ylim([0.02,0.05])\n",
        "plt.grid()\n",
        "plt.xlabel('log10(C)')\n",
        "plt.ylabel('Error rate')\n",
        "\n",
        "imin = np.argmin(err_mean)\n",
        "\n",
        "print(\"The minimum test error rate = %12.4e, SE=%12.4e\" % (err_mean[imin], err_se[imin]))\n",
        "print(\"The C value corresponding to minimum error = %12.4e\" % (C_test[imin]))"
      ],
      "execution_count": 58,
      "outputs": [
        {
          "output_type": "stream",
          "name": "stdout",
          "text": [
            "Fold 0\n",
            "Fold 1\n",
            "Fold 2\n",
            "Fold 3\n",
            "Fold 4\n",
            "Fold 5\n",
            "Fold 6\n",
            "Fold 7\n",
            "Fold 8\n",
            "Fold 9\n",
            "The minimum test error rate =   0.0000e+00, SE=  0.0000e+00\n",
            "The C value corresponding to minimum error =   1.8330e-01\n"
          ]
        },
        {
          "output_type": "display_data",
          "data": {
            "image/png": "[encoded data removed]",
            "text/plain": [
              "<Figure size 432x288 with 1 Axes>"
            ]
          },
          "metadata": {
            "needs_background": "light"
          }
        }
      ]
    },
    {
      "cell_type": "code",
      "metadata": {
        "colab": {
          "base_uri": "https://localhost:8080/"
        },
        "id": "3DseD1BSpWud",
        "outputId": "7d95faa6-5f00-42ff-f240-694e151d795f"
      },
      "source": [
        "logreg =  LogisticRegression(penalty=\"l2\",C=1.8330e-01,solver=\"liblinear\")\n",
        "# Fit the model\n",
        "# Don't use matrix X_train_1. Instead, use x_train.\n",
        "logreg.fit(Z_train,y2_train)\n",
        "\n",
        "# Find the predicted values on training set using logreg.predict\n",
        "y_hat_logreg = logreg.predict(Z_train)\n",
        "# Find the accuracy achieved on training set using logreg.score and y_train as type of int\n",
        "acc_logreg = logreg.score(Z_train,y2_train) \n",
        "\n",
        "# Find Precision, recall and fscore using precision_recall_fscore_support nethod of sklearn\n",
        "temp = precision_recall_fscore_support(y2_train,y_hat_logreg)\n",
        "prec = temp[0]\n",
        "recal = temp[1]\n",
        "fscore = temp[2]\n",
        "\n",
        "print('Training Precision: ', prec)\n",
        "print('Training Recall: ', recal)\n",
        "print('Training F_score: ', fscore)\n",
        "print('Training Accuracy: ', acc_logreg)\n",
        "\n",
        "y_hat_logreg_test = logreg.predict(Z_test)\n",
        "acc_logreg_test = logreg.score(Z_test,y2_test)\n",
        "temp2 = precision_recall_fscore_support(y2_test,y_hat_logreg_test)\n",
        "prec2 = temp[0]\n",
        "recal2 = temp[1]\n",
        "fscore2 = temp[2]\n",
        "print('Testing Precision: ', prec2)\n",
        "print('Testing Recall: ', recal2)\n",
        "print('Testing F_score: ', fscore2)\n",
        "print('Testing Accuracy: ', acc_logreg_test)\n",
        "\n",
        "print('Model Weights:', np.hstack((logreg.intercept_[:,None], logreg.coef_)))"
      ],
      "execution_count": 72,
      "outputs": [
        {
          "output_type": "stream",
          "name": "stdout",
          "text": [
            "Training Precision:  [1. 1.]\n",
            "Training Recall:  [1. 1.]\n",
            "Training F_score:  [1. 1.]\n",
            "Training Accuracy:  1.0\n",
            "Testing Precision:  [1. 1.]\n",
            "Testing Recall:  [1. 1.]\n",
            "Testing F_score:  [1. 1.]\n",
            "Testing Accuracy:  1.0\n",
            "Model Weights: [[ 0.3820288   0.          0.19954465 -0.34096152  0.08726034 -0.82540859\n",
            "   0.02660686 -0.17686752 -1.25573644  0.1458177  -0.05391502 -0.3556705\n",
            "   0.17917324  0.16972829  0.0506991  -0.07017122 -0.01880242  0.22609512\n",
            "   0.08431288 -0.20901282  0.32949374 -0.24658895 -0.03298286 -0.53950671\n",
            "  -0.27024075 -0.31384699 -0.04947627  0.17638763  0.16451579 -0.15526786\n",
            "   0.10223275  0.15194295  0.02325268 -0.03219882  0.17183734  0.406354\n",
            "  -0.01659652 -0.13521905 -0.50145241 -0.02493941 -0.9397198   0.04469912\n",
            "   0.26328066 -0.36624742  0.04112113 -0.49285572  0.30457643  0.44225841\n",
            "   0.4311062   0.32807368  0.15823714  0.08001849  0.20787446 -0.38692558\n",
            "   0.97045063 -0.42485535 -0.12665904  0.69083349  0.28348947 -0.06882868\n",
            "  -0.02390402  0.18542757 -0.0046694   0.40171664  0.17071209  0.15404636\n",
            "  -0.02899748 -0.56772028  0.27374359 -0.03640914 -0.34613402 -0.82540859\n",
            "   0.25690632 -0.00714811 -0.79457921  0.04253819 -0.15681473  0.17958209\n",
            "  -0.08792958  0.07457356  0.10000853 -0.12522854 -0.18399512 -0.2251034\n",
            "  -0.74117044  0.6516031   1.13564017  0.96093685  0.09078544  0.34321694\n",
            "   0.34510796  0.75967671  0.29994768  0.33808497  0.19874021  0.15618657\n",
            "   0.24362487  0.57841487  0.09904506  0.70954837 -0.17686752 -0.85185045\n",
            "  -0.10305609 -0.85967535 -0.41437236 -0.1569089  -0.12086927  0.00904889\n",
            "  -0.48392755 -0.27906177 -0.48195775  0.0168597  -0.32874078 -1.25573644\n",
            "  -0.34271798 -0.30615825 -0.75748971 -0.05235351  0.22325639 -0.17050888\n",
            "  -0.1276939   0.31948732  0.5018241   0.03171779 -1.19374807  0.39090017\n",
            "   0.37183349  0.05012347 -0.00916792 -0.03634303 -0.07433665 -0.10176297\n",
            "  -0.01987813  0.30463179  0.02019162 -0.004876   -0.05391502  0.05271663\n",
            "   0.11485504  0.07439672 -0.03907369 -0.06898007  0.19229852  0.6562744\n",
            "  -0.16358485 -0.24682294 -0.39210987 -0.04807756 -0.2348311  -0.10735782\n",
            "  -0.06675916 -0.70657891  0.06972633 -0.08279355 -0.25444282 -0.04895495\n",
            "   0.41551096  0.10123138 -0.10070523  0.79464454 -0.01289155  0.20835077\n",
            "  -0.00961927  0.4460906   0.4858355   0.44405012  0.57198263  0.13713539\n",
            "   0.39365156  0.13640902 -0.09056326 -0.02040362  0.58471573  0.00267927\n",
            "  -0.0351556  -0.03718818 -0.17321668  0.59360692 -0.14588624 -0.07079108\n",
            "  -0.23868485 -0.42516619  0.11327218  0.06181079  0.03796088  0.66715803\n",
            "   0.11412667 -0.33956708 -0.17934709 -0.04367156 -0.18664518]]\n"
          ]
        }
      ]
    },
    {
      "cell_type": "code",
      "metadata": {
        "colab": {
          "base_uri": "https://localhost:8080/",
          "height": 295
        },
        "id": "wNAFSmVoqBZx",
        "outputId": "ee2cfa52-7087-4aa9-dbe9-c53b66a21de8"
      },
      "source": [
        "def do_poly_logreg(penalty, C):\n",
        "    logreg = LogisticRegression(penalty=penalty,C=C,solver=\"liblinear\")\n",
        "    logreg.fit(Z_train,y2_train)\n",
        "\n",
        "    logreg_tr_acc = logreg.score(Z_train,y2_train)\n",
        "    logreg_te_acc = logreg.score(Z_test,y2_test)\n",
        "    return (logreg_tr_acc,logreg_te_acc)\n",
        "\n",
        "poly_train_result = []\n",
        "poly_test_result = []\n",
        "\n",
        "C_list = np.logspace(-3,-1,20)\n",
        "for C in C_list:\n",
        "    poly_results = do_poly_logreg(\"l2\",C)\n",
        "    poly_train_result.append(poly_results[0])\n",
        "    poly_test_result.append(poly_results[1])\n",
        "\n",
        "\n",
        "plt.plot(C_list,poly_train_result)\n",
        "plt.plot(C_list,poly_test_result)\n",
        "plt.xlabel(\"C\")\n",
        "plt.ylabel(\"Mean Accuracy\")\n",
        "plt.legend([\"Train Set\",\"Test Set\"])\n",
        "plt.title(\"Poly Feature Transformation L2 Results\")\n",
        "plt.grid()"
      ],
      "execution_count": 66,
      "outputs": [
        {
          "output_type": "display_data",
          "data": {
            "image/png": "[encoded data removed]",
            "text/plain": [
              "<Figure size 432x288 with 1 Axes>"
            ]
          },
          "metadata": {
            "needs_background": "light"
          }
        }
      ]
    },
    {
      "cell_type": "code",
      "metadata": {
        "colab": {
          "base_uri": "https://localhost:8080/"
        },
        "id": "D1CEBgN8v1rq",
        "outputId": "4af32251-0ec1-4429-f9f8-5dc823788896"
      },
      "source": [
        "print(C_list)\n",
        "print(poly_train_result)\n",
        "print(poly_test_result)"
      ],
      "execution_count": 67,
      "outputs": [
        {
          "output_type": "stream",
          "name": "stdout",
          "text": [
            "[0.001      0.00127427 0.00162378 0.00206914 0.00263665 0.00335982\n",
            " 0.00428133 0.00545559 0.00695193 0.00885867 0.01128838 0.0143845\n",
            " 0.01832981 0.02335721 0.02976351 0.0379269  0.0483293  0.06158482\n",
            " 0.078476   0.1       ]\n",
            "[0.959297554570819, 0.9645494830132939, 0.9689807976366323, 0.9719350073855244, 0.9750533398982438, 0.9789922862301002, 0.9826029870343017, 0.9860495650746759, 0.988019038240604, 0.9898243886427047, 0.9914656162809782, 0.9929427211554243, 0.995732808140489, 0.9965534219596258, 0.9978664040702445, 0.9988511406532086, 0.999015263417036, 0.9996717544723454, 0.9998358772361726, 1.0]\n",
            "[0.9532250123092073, 0.9571639586410635, 0.9596258000984736, 0.9645494830132939, 0.9679960610536681, 0.9694731659281143, 0.9743968488429345, 0.9763663220088626, 0.9812900049236829, 0.9852289512555391, 0.9871984244214672, 0.9876907927129492, 0.9896602658788775, 0.9926144756277696, 0.9950763170851797, 0.9970457902511078, 0.9980305268340719, 0.9980305268340719, 0.999015263417036, 0.999507631708518]\n"
          ]
        }
      ]
    }
  ]
}